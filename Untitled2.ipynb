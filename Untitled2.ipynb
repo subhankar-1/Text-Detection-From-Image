{
 "cells": [
  {
   "cell_type": "code",
   "execution_count": 20,
   "metadata": {},
   "outputs": [
    {
     "name": "stdout",
     "output_type": "stream",
     "text": [
      "Vo)) LTE+\n",
      "Vo))\n",
      "15:20 M\n",
      "LTE1 LTE2 .l 71%\n",
      "E lornaperozzofitness\n",
      "4,004\n",
      "79.2K\n",
      "175\n",
      "Posts\n",
      "Followers\n",
      "Following\n",
      "Lorna - Sustainable Health\n",
      "Coach\n",
      "Founder of Sustainable Health Project\n",
      "help women ditch the dieting mentality so they can\n",
      "achieve sustainable results. more\n",
      "linktr.ee/lornaperozzofitness\n",
      "Follow\n",
      "Message\n",
      "Email addr...\n",
      "Client Wins\n",
      "Food\n",
      "Teachings Intuitive Eat\n",
      "(+)\n",
      "II\n",
      "\n",
      "{'vertices': [{'x': 27, 'y': 14}, {'x': 1008, 'y': 14}, {'x': 1008, 'y': 2180}, {'x': 27, 'y': 2180}]}\n"
     ]
    }
   ],
   "source": [
    "from base64 import b64encode\n",
    "\n",
    "import googleapiclient.discovery\n",
    "from oauth2client.client import GoogleCredentials\n",
    "\n",
    "# Change this values to match your project\n",
    "IMAGE_FILE = \"god1.jpg\"\n",
    "CREDENTIALS_FILE = \"s.json\"\n",
    "\n",
    "# Connect to the Google Cloud-ML Service\n",
    "credentials = GoogleCredentials.from_stream(CREDENTIALS_FILE)\n",
    "service = googleapiclient.discovery.build('vision', 'v1', credentials=credentials)\n",
    "\n",
    "# Read file and convert it to a base64 encoding\n",
    "with open(IMAGE_FILE, \"rb\") as f:\n",
    "    image_data = f.read()\n",
    "    encoded_image_data = b64encode(image_data).decode('UTF-8')\n",
    "\n",
    "# Create the request object for the Google Vision API\n",
    "batch_request = [{\n",
    "    'image': {\n",
    "        'content': encoded_image_data\n",
    "    },\n",
    "    'features': [\n",
    "        {\n",
    "            'type': 'TEXT_DETECTION'\n",
    "        }\n",
    "    ]\n",
    "}]\n",
    "request = service.images().annotate(body={'requests': batch_request})\n",
    "\n",
    "# Send the request to Google\n",
    "response = request.execute()\n",
    "\n",
    "# Check for errors\n",
    "if 'error' in response:\n",
    "    raise RuntimeError(response['error'])\n",
    "\n",
    "# Print the results\n",
    "extracted_texts = response['responses'][0]['textAnnotations']\n",
    "\n",
    "# Print the first piece of text found in the image\n",
    "extracted_text = extracted_texts[0]\n",
    "print(extracted_text['description'])\n",
    "\n",
    "# Print the location where the text was detected\n",
    "print(extracted_text['boundingPoly'])"
   ]
  },
  {
   "cell_type": "code",
   "execution_count": 37,
   "metadata": {},
   "outputs": [],
   "source": [
    "from os import listdir\n",
    "from os.path import isfile, join\n",
    "onlyfiles = [f for f in listdir('Virtual Shows') if isfile(join('Virtual Shows', f))]\n"
   ]
  },
  {
   "cell_type": "code",
   "execution_count": 36,
   "metadata": {},
   "outputs": [],
   "source": [
    "from PIL import Image\n",
    "import pytesseract\n",
    "import cv2\n",
    "import os\n",
    "f=open(\"image_to_text.txt\", \"a+\")\n",
    "for i in range(0,119):\n",
    "    image = cv2.imread('Virtual Shows/'+onlyfiles[i], 0)\n",
    "    thresh = 255 - cv2.threshold(image, 0, 255, cv2.THRESH_BINARY_INV + cv2.THRESH_OTSU)[1]\n",
    "    x,y,w,h = 20, 150, 1000, 700\n",
    "    ROI = thresh[y:y+h,x:x+w]\n",
    "    data = pytesseract.image_to_string(ROI,config='--psm 6')\n",
    "    f=open(\"image_to_text.txt\", \"a+\")\n",
    "    f.write(\"           DETAILS OF USER  %d\\r\\n\" % (i+1))\n",
    "    f.write(\"\\n\")\n",
    "    f.write(data)\n",
    "    f.write(\"\\n\")\n",
    "    f.write('-'*80)\n",
    "    f.write(\"\\n\")\n",
    "    f.close()"
   ]
  },
  {
   "cell_type": "code",
   "execution_count": null,
   "metadata": {},
   "outputs": [],
   "source": []
  }
 ],
 "metadata": {
  "kernelspec": {
   "display_name": "Python 3",
   "language": "python",
   "name": "python3"
  },
  "language_info": {
   "codemirror_mode": {
    "name": "ipython",
    "version": 3
   },
   "file_extension": ".py",
   "mimetype": "text/x-python",
   "name": "python",
   "nbconvert_exporter": "python",
   "pygments_lexer": "ipython3",
   "version": "3.6.7"
  }
 },
 "nbformat": 4,
 "nbformat_minor": 2
}
